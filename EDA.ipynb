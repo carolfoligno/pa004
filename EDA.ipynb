{
 "cells": [
  {
   "cell_type": "code",
   "execution_count": 1,
   "id": "538f3ff4",
   "metadata": {
    "ExecuteTime": {
     "end_time": "2022-12-20T22:11:57.618949Z",
     "start_time": "2022-12-20T22:11:56.898690Z"
    }
   },
   "outputs": [],
   "source": [
    "import psycopg2 as pg\n",
    "import pandas as pd\n",
    "import numpy as np\n",
    "import matplotlib.pyplot as plt\n",
    "import seaborn as sns\n",
    "\n",
    "plt.style.use('seaborn-v0_8-dark')"
   ]
  },
  {
   "cell_type": "markdown",
   "id": "342b0700",
   "metadata": {},
   "source": [
    "## Colect Data with language SQL - PastgresSQL"
   ]
  },
  {
   "cell_type": "code",
   "execution_count": 2,
   "id": "7eb2550b",
   "metadata": {
    "ExecuteTime": {
     "end_time": "2022-12-20T22:11:57.623596Z",
     "start_time": "2022-12-20T22:11:57.620969Z"
    }
   },
   "outputs": [],
   "source": [
    "# Database: Postgress 12.0 - AWS\n",
    "# credenciais\n",
    "host = 'comunidade-ds-postgres.c50pcakiuwi3.us-east-1.rds.amazonaws.com'\n",
    "port = 5432\n",
    "database = 'comunidadedsdb'\n",
    "username = 'member'\n",
    "password = 'cdspa'"
   ]
  },
  {
   "cell_type": "code",
   "execution_count": 3,
   "id": "1a609175",
   "metadata": {
    "ExecuteTime": {
     "end_time": "2022-12-20T22:12:03.560461Z",
     "start_time": "2022-12-20T22:11:57.624901Z"
    }
   },
   "outputs": [],
   "source": [
    "# conectando ao DB\n",
    "conn = pg.connect( user = username,\n",
    "                   password = password,\n",
    "                   host = host,\n",
    "                   port = port,\n",
    "                   database = database)\n",
    "\n",
    "cursor = conn.cursor()\n"
   ]
  },
  {
   "cell_type": "code",
   "execution_count": 4,
   "id": "297af1ef",
   "metadata": {
    "ExecuteTime": {
     "end_time": "2022-12-20T22:16:34.904219Z",
     "start_time": "2022-12-20T22:12:03.564720Z"
    }
   },
   "outputs": [
    {
     "name": "stderr",
     "output_type": "stream",
     "text": [
      "/tmp/ipykernel_4301/1677877073.py:9: UserWarning: pandas only supports SQLAlchemy connectable (engine/connection) or database string URI or sqlite3 DBAPI2 connection. Other DBAPI2 objects are not tested. Please consider using SQLAlchemy.\n",
      "  df_raw = pd.read_sql(query_tables, conn) # não precisa de cursor, faz a conexão direto\n"
     ]
    },
    {
     "data": {
      "text/html": [
       "<div>\n",
       "<style scoped>\n",
       "    .dataframe tbody tr th:only-of-type {\n",
       "        vertical-align: middle;\n",
       "    }\n",
       "\n",
       "    .dataframe tbody tr th {\n",
       "        vertical-align: top;\n",
       "    }\n",
       "\n",
       "    .dataframe thead th {\n",
       "        text-align: right;\n",
       "    }\n",
       "</style>\n",
       "<table border=\"1\" class=\"dataframe\">\n",
       "  <thead>\n",
       "    <tr style=\"text-align: right;\">\n",
       "      <th></th>\n",
       "      <th>id</th>\n",
       "      <th>gender</th>\n",
       "      <th>age</th>\n",
       "      <th>region_code</th>\n",
       "      <th>policy_sales_channel</th>\n",
       "      <th>driving_license</th>\n",
       "      <th>vehicle_age</th>\n",
       "      <th>vehicle_damage</th>\n",
       "      <th>previously_insured</th>\n",
       "      <th>annual_premium</th>\n",
       "      <th>vintage</th>\n",
       "      <th>response</th>\n",
       "    </tr>\n",
       "  </thead>\n",
       "  <tbody>\n",
       "    <tr>\n",
       "      <th>0</th>\n",
       "      <td>7</td>\n",
       "      <td>Male</td>\n",
       "      <td>23</td>\n",
       "      <td>11.0</td>\n",
       "      <td>152.0</td>\n",
       "      <td>1</td>\n",
       "      <td>&lt; 1 Year</td>\n",
       "      <td>Yes</td>\n",
       "      <td>0</td>\n",
       "      <td>23367.0</td>\n",
       "      <td>249</td>\n",
       "      <td>0</td>\n",
       "    </tr>\n",
       "    <tr>\n",
       "      <th>1</th>\n",
       "      <td>13</td>\n",
       "      <td>Female</td>\n",
       "      <td>41</td>\n",
       "      <td>15.0</td>\n",
       "      <td>14.0</td>\n",
       "      <td>1</td>\n",
       "      <td>1-2 Year</td>\n",
       "      <td>No</td>\n",
       "      <td>1</td>\n",
       "      <td>31409.0</td>\n",
       "      <td>221</td>\n",
       "      <td>0</td>\n",
       "    </tr>\n",
       "    <tr>\n",
       "      <th>2</th>\n",
       "      <td>18</td>\n",
       "      <td>Female</td>\n",
       "      <td>25</td>\n",
       "      <td>35.0</td>\n",
       "      <td>152.0</td>\n",
       "      <td>1</td>\n",
       "      <td>&lt; 1 Year</td>\n",
       "      <td>No</td>\n",
       "      <td>1</td>\n",
       "      <td>46622.0</td>\n",
       "      <td>299</td>\n",
       "      <td>0</td>\n",
       "    </tr>\n",
       "    <tr>\n",
       "      <th>3</th>\n",
       "      <td>31</td>\n",
       "      <td>Female</td>\n",
       "      <td>26</td>\n",
       "      <td>8.0</td>\n",
       "      <td>160.0</td>\n",
       "      <td>1</td>\n",
       "      <td>&lt; 1 Year</td>\n",
       "      <td>No</td>\n",
       "      <td>0</td>\n",
       "      <td>2630.0</td>\n",
       "      <td>136</td>\n",
       "      <td>0</td>\n",
       "    </tr>\n",
       "    <tr>\n",
       "      <th>4</th>\n",
       "      <td>39</td>\n",
       "      <td>Male</td>\n",
       "      <td>45</td>\n",
       "      <td>8.0</td>\n",
       "      <td>124.0</td>\n",
       "      <td>1</td>\n",
       "      <td>1-2 Year</td>\n",
       "      <td>Yes</td>\n",
       "      <td>0</td>\n",
       "      <td>42297.0</td>\n",
       "      <td>264</td>\n",
       "      <td>0</td>\n",
       "    </tr>\n",
       "  </tbody>\n",
       "</table>\n",
       "</div>"
      ],
      "text/plain": [
       "   id  gender  age  region_code  policy_sales_channel  driving_license  \\\n",
       "0   7    Male   23         11.0                 152.0                1   \n",
       "1  13  Female   41         15.0                  14.0                1   \n",
       "2  18  Female   25         35.0                 152.0                1   \n",
       "3  31  Female   26          8.0                 160.0                1   \n",
       "4  39    Male   45          8.0                 124.0                1   \n",
       "\n",
       "  vehicle_age vehicle_damage  previously_insured  annual_premium  vintage  \\\n",
       "0    < 1 Year            Yes                   0         23367.0      249   \n",
       "1    1-2 Year             No                   1         31409.0      221   \n",
       "2    < 1 Year             No                   1         46622.0      299   \n",
       "3    < 1 Year             No                   0          2630.0      136   \n",
       "4    1-2 Year            Yes                   0         42297.0      264   \n",
       "\n",
       "   response  \n",
       "0         0  \n",
       "1         0  \n",
       "2         0  \n",
       "3         0  \n",
       "4         0  "
      ]
     },
     "execution_count": 4,
     "metadata": {},
     "output_type": "execute_result"
    }
   ],
   "source": [
    "query_tables = \"\"\"\n",
    "    SELECT *\n",
    "    FROM pa004.users u LEFT JOIN pa004.vehicle v ON (u.id = v.id)\n",
    "                       LEFT JOIN pa004.insurance i ON (u.id = i.id)\n",
    "\"\"\"\n",
    "\n",
    "cursor.execute(query_tables)\n",
    "\n",
    "df_raw = pd.read_sql(query_tables, conn) # não precisa de cursor, faz a conexão direto\n",
    "df_raw = df_raw.loc[:, ~df_raw.columns.duplicated()]\n",
    "df_raw.head()"
   ]
  },
  {
   "cell_type": "markdown",
   "id": "30f8da91",
   "metadata": {},
   "source": [
    "## Descriptive Analysis"
   ]
  },
  {
   "cell_type": "code",
   "execution_count": 5,
   "id": "88299f33",
   "metadata": {
    "ExecuteTime": {
     "end_time": "2022-12-20T22:16:34.927776Z",
     "start_time": "2022-12-20T22:16:34.905392Z"
    }
   },
   "outputs": [],
   "source": [
    "df1 = df_raw.copy()"
   ]
  },
  {
   "cell_type": "code",
   "execution_count": 6,
   "id": "bb5ec0e3",
   "metadata": {
    "ExecuteTime": {
     "end_time": "2022-12-20T22:16:34.932690Z",
     "start_time": "2022-12-20T22:16:34.929277Z"
    }
   },
   "outputs": [
    {
     "data": {
      "text/plain": [
       "Index(['id', 'gender', 'age', 'region_code', 'policy_sales_channel',\n",
       "       'driving_license', 'vehicle_age', 'vehicle_damage',\n",
       "       'previously_insured', 'annual_premium', 'vintage', 'response'],\n",
       "      dtype='object')"
      ]
     },
     "execution_count": 6,
     "metadata": {},
     "output_type": "execute_result"
    }
   ],
   "source": [
    "df1.columns"
   ]
  },
  {
   "cell_type": "markdown",
   "id": "71caeb5b",
   "metadata": {},
   "source": [
    "**Descrição das colunas**\n",
    "\n",
    "colunas | descrição\n",
    "------ | -------\n",
    "id | identificador único\n",
    "gender | gênero do cliente\n",
    "age | idade do cliente\n",
    "driving license | 0: não permissão digirir, 1: permissão digirir\n",
    "region code | código da região do cliente\n",
    "Previously Insured | 0: não possui seguro automovel, 1: já possui seguro automovel\n",
    "vehicle age | idade do veículo\n",
    "vehicle damage | 0: nunca foi danificado, 1: já foi danificado no passado\n",
    "anual premium | quantidade que irá pagar pelo seguro de automovel anual\n",
    "policy sales channel | código anônimo do contato do cliente \n",
    "vintage | nº dias que o cliente associou à empresa\n",
    "response | 0: não tem interesse ao seguro de automovel, 1: tem interesse ao seguro de automovel\n"
   ]
  },
  {
   "cell_type": "code",
   "execution_count": 7,
   "id": "55c96aa5",
   "metadata": {
    "ExecuteTime": {
     "end_time": "2022-12-20T22:16:34.942974Z",
     "start_time": "2022-12-20T22:16:34.933745Z"
    }
   },
   "outputs": [
    {
     "name": "stdout",
     "output_type": "stream",
     "text": [
      "Number of rows: 381109\n",
      "Number of columns: 12\n"
     ]
    }
   ],
   "source": [
    "## shape\n",
    "print(f'Number of rows: {df1.shape[0]}')\n",
    "print(f'Number of columns: {df1.shape[1]}')"
   ]
  },
  {
   "cell_type": "code",
   "execution_count": 8,
   "id": "9c9aac57",
   "metadata": {
    "ExecuteTime": {
     "end_time": "2022-12-20T22:16:35.055740Z",
     "start_time": "2022-12-20T22:16:34.944112Z"
    }
   },
   "outputs": [
    {
     "name": "stdout",
     "output_type": "stream",
     "text": [
      "<class 'pandas.core.frame.DataFrame'>\n",
      "RangeIndex: 381109 entries, 0 to 381108\n",
      "Data columns (total 12 columns):\n",
      " #   Column                Non-Null Count   Dtype  \n",
      "---  ------                --------------   -----  \n",
      " 0   id                    381109 non-null  int64  \n",
      " 1   gender                381109 non-null  object \n",
      " 2   age                   381109 non-null  int64  \n",
      " 3   region_code           381109 non-null  float64\n",
      " 4   policy_sales_channel  381109 non-null  float64\n",
      " 5   driving_license       381109 non-null  int64  \n",
      " 6   vehicle_age           381109 non-null  object \n",
      " 7   vehicle_damage        381109 non-null  object \n",
      " 8   previously_insured    381109 non-null  int64  \n",
      " 9   annual_premium        381109 non-null  float64\n",
      " 10  vintage               381109 non-null  int64  \n",
      " 11  response              381109 non-null  int64  \n",
      "dtypes: float64(3), int64(6), object(3)\n",
      "memory usage: 34.9+ MB\n"
     ]
    }
   ],
   "source": [
    "## info\n",
    "df1.info()"
   ]
  },
  {
   "cell_type": "code",
   "execution_count": 9,
   "id": "8bf011ac",
   "metadata": {
    "ExecuteTime": {
     "end_time": "2022-12-20T22:16:35.169164Z",
     "start_time": "2022-12-20T22:16:35.057669Z"
    }
   },
   "outputs": [
    {
     "data": {
      "text/plain": [
       "id                      0\n",
       "gender                  0\n",
       "age                     0\n",
       "region_code             0\n",
       "policy_sales_channel    0\n",
       "driving_license         0\n",
       "vehicle_age             0\n",
       "vehicle_damage          0\n",
       "previously_insured      0\n",
       "annual_premium          0\n",
       "vintage                 0\n",
       "response                0\n",
       "dtype: int64"
      ]
     },
     "execution_count": 9,
     "metadata": {},
     "output_type": "execute_result"
    }
   ],
   "source": [
    "## Check NA\n",
    "df1.isna().sum()"
   ]
  },
  {
   "cell_type": "code",
   "execution_count": 10,
   "id": "eaf32cb0",
   "metadata": {
    "ExecuteTime": {
     "end_time": "2022-12-20T22:16:35.310888Z",
     "start_time": "2022-12-20T22:16:35.173068Z"
    }
   },
   "outputs": [
    {
     "data": {
      "text/html": [
       "<div>\n",
       "<style scoped>\n",
       "    .dataframe tbody tr th:only-of-type {\n",
       "        vertical-align: middle;\n",
       "    }\n",
       "\n",
       "    .dataframe tbody tr th {\n",
       "        vertical-align: top;\n",
       "    }\n",
       "\n",
       "    .dataframe thead th {\n",
       "        text-align: right;\n",
       "    }\n",
       "</style>\n",
       "<table border=\"1\" class=\"dataframe\">\n",
       "  <thead>\n",
       "    <tr style=\"text-align: right;\">\n",
       "      <th></th>\n",
       "      <th>id</th>\n",
       "      <th>gender</th>\n",
       "      <th>age</th>\n",
       "      <th>region_code</th>\n",
       "      <th>policy_sales_channel</th>\n",
       "      <th>driving_license</th>\n",
       "      <th>vehicle_age</th>\n",
       "      <th>vehicle_damage</th>\n",
       "      <th>previously_insured</th>\n",
       "      <th>annual_premium</th>\n",
       "      <th>vintage</th>\n",
       "      <th>response</th>\n",
       "    </tr>\n",
       "  </thead>\n",
       "  <tbody>\n",
       "  </tbody>\n",
       "</table>\n",
       "</div>"
      ],
      "text/plain": [
       "Empty DataFrame\n",
       "Columns: [id, gender, age, region_code, policy_sales_channel, driving_license, vehicle_age, vehicle_damage, previously_insured, annual_premium, vintage, response]\n",
       "Index: []"
      ]
     },
     "execution_count": 10,
     "metadata": {},
     "output_type": "execute_result"
    }
   ],
   "source": [
    "## duplicate\n",
    "df1[df1.duplicated()] # não há linhas duplicadas"
   ]
  },
  {
   "cell_type": "code",
   "execution_count": 11,
   "id": "0ceb98b5",
   "metadata": {
    "ExecuteTime": {
     "end_time": "2022-12-20T22:16:35.404159Z",
     "start_time": "2022-12-20T22:16:35.312716Z"
    }
   },
   "outputs": [
    {
     "data": {
      "text/html": [
       "<div>\n",
       "<style scoped>\n",
       "    .dataframe tbody tr th:only-of-type {\n",
       "        vertical-align: middle;\n",
       "    }\n",
       "\n",
       "    .dataframe tbody tr th {\n",
       "        vertical-align: top;\n",
       "    }\n",
       "\n",
       "    .dataframe thead th {\n",
       "        text-align: right;\n",
       "    }\n",
       "</style>\n",
       "<table border=\"1\" class=\"dataframe\">\n",
       "  <thead>\n",
       "    <tr style=\"text-align: right;\">\n",
       "      <th></th>\n",
       "      <th>id</th>\n",
       "      <th>age</th>\n",
       "      <th>region_code</th>\n",
       "      <th>policy_sales_channel</th>\n",
       "      <th>driving_license</th>\n",
       "      <th>previously_insured</th>\n",
       "      <th>annual_premium</th>\n",
       "      <th>vintage</th>\n",
       "      <th>response</th>\n",
       "    </tr>\n",
       "  </thead>\n",
       "  <tbody>\n",
       "    <tr>\n",
       "      <th>count</th>\n",
       "      <td>381109.000000</td>\n",
       "      <td>381109.000000</td>\n",
       "      <td>381109.000000</td>\n",
       "      <td>381109.000000</td>\n",
       "      <td>381109.000000</td>\n",
       "      <td>381109.000000</td>\n",
       "      <td>381109.000000</td>\n",
       "      <td>381109.000000</td>\n",
       "      <td>381109.000000</td>\n",
       "    </tr>\n",
       "    <tr>\n",
       "      <th>mean</th>\n",
       "      <td>190555.000000</td>\n",
       "      <td>38.822584</td>\n",
       "      <td>26.388807</td>\n",
       "      <td>112.034295</td>\n",
       "      <td>0.997869</td>\n",
       "      <td>0.458210</td>\n",
       "      <td>30564.389581</td>\n",
       "      <td>154.347397</td>\n",
       "      <td>0.122563</td>\n",
       "    </tr>\n",
       "    <tr>\n",
       "      <th>std</th>\n",
       "      <td>110016.836208</td>\n",
       "      <td>15.511611</td>\n",
       "      <td>13.229888</td>\n",
       "      <td>54.203995</td>\n",
       "      <td>0.046110</td>\n",
       "      <td>0.498251</td>\n",
       "      <td>17213.155057</td>\n",
       "      <td>83.671304</td>\n",
       "      <td>0.327936</td>\n",
       "    </tr>\n",
       "    <tr>\n",
       "      <th>min</th>\n",
       "      <td>1.000000</td>\n",
       "      <td>20.000000</td>\n",
       "      <td>0.000000</td>\n",
       "      <td>1.000000</td>\n",
       "      <td>0.000000</td>\n",
       "      <td>0.000000</td>\n",
       "      <td>2630.000000</td>\n",
       "      <td>10.000000</td>\n",
       "      <td>0.000000</td>\n",
       "    </tr>\n",
       "    <tr>\n",
       "      <th>25%</th>\n",
       "      <td>95278.000000</td>\n",
       "      <td>25.000000</td>\n",
       "      <td>15.000000</td>\n",
       "      <td>29.000000</td>\n",
       "      <td>1.000000</td>\n",
       "      <td>0.000000</td>\n",
       "      <td>24405.000000</td>\n",
       "      <td>82.000000</td>\n",
       "      <td>0.000000</td>\n",
       "    </tr>\n",
       "    <tr>\n",
       "      <th>50%</th>\n",
       "      <td>190555.000000</td>\n",
       "      <td>36.000000</td>\n",
       "      <td>28.000000</td>\n",
       "      <td>133.000000</td>\n",
       "      <td>1.000000</td>\n",
       "      <td>0.000000</td>\n",
       "      <td>31669.000000</td>\n",
       "      <td>154.000000</td>\n",
       "      <td>0.000000</td>\n",
       "    </tr>\n",
       "    <tr>\n",
       "      <th>75%</th>\n",
       "      <td>285832.000000</td>\n",
       "      <td>49.000000</td>\n",
       "      <td>35.000000</td>\n",
       "      <td>152.000000</td>\n",
       "      <td>1.000000</td>\n",
       "      <td>1.000000</td>\n",
       "      <td>39400.000000</td>\n",
       "      <td>227.000000</td>\n",
       "      <td>0.000000</td>\n",
       "    </tr>\n",
       "    <tr>\n",
       "      <th>max</th>\n",
       "      <td>381109.000000</td>\n",
       "      <td>85.000000</td>\n",
       "      <td>52.000000</td>\n",
       "      <td>163.000000</td>\n",
       "      <td>1.000000</td>\n",
       "      <td>1.000000</td>\n",
       "      <td>540165.000000</td>\n",
       "      <td>299.000000</td>\n",
       "      <td>1.000000</td>\n",
       "    </tr>\n",
       "  </tbody>\n",
       "</table>\n",
       "</div>"
      ],
      "text/plain": [
       "                  id            age    region_code  policy_sales_channel  \\\n",
       "count  381109.000000  381109.000000  381109.000000         381109.000000   \n",
       "mean   190555.000000      38.822584      26.388807            112.034295   \n",
       "std    110016.836208      15.511611      13.229888             54.203995   \n",
       "min         1.000000      20.000000       0.000000              1.000000   \n",
       "25%     95278.000000      25.000000      15.000000             29.000000   \n",
       "50%    190555.000000      36.000000      28.000000            133.000000   \n",
       "75%    285832.000000      49.000000      35.000000            152.000000   \n",
       "max    381109.000000      85.000000      52.000000            163.000000   \n",
       "\n",
       "       driving_license  previously_insured  annual_premium        vintage  \\\n",
       "count    381109.000000       381109.000000   381109.000000  381109.000000   \n",
       "mean          0.997869            0.458210    30564.389581     154.347397   \n",
       "std           0.046110            0.498251    17213.155057      83.671304   \n",
       "min           0.000000            0.000000     2630.000000      10.000000   \n",
       "25%           1.000000            0.000000    24405.000000      82.000000   \n",
       "50%           1.000000            0.000000    31669.000000     154.000000   \n",
       "75%           1.000000            1.000000    39400.000000     227.000000   \n",
       "max           1.000000            1.000000   540165.000000     299.000000   \n",
       "\n",
       "            response  \n",
       "count  381109.000000  \n",
       "mean        0.122563  \n",
       "std         0.327936  \n",
       "min         0.000000  \n",
       "25%         0.000000  \n",
       "50%         0.000000  \n",
       "75%         0.000000  \n",
       "max         1.000000  "
      ]
     },
     "execution_count": 11,
     "metadata": {},
     "output_type": "execute_result"
    }
   ],
   "source": [
    "## describe\n",
    "df1.describe()"
   ]
  },
  {
   "cell_type": "code",
   "execution_count": 12,
   "id": "dd05b1fd",
   "metadata": {
    "ExecuteTime": {
     "end_time": "2022-12-20T22:16:35.413757Z",
     "start_time": "2022-12-20T22:16:35.405548Z"
    }
   },
   "outputs": [
    {
     "data": {
      "text/plain": [
       "id                        int64\n",
       "gender                   object\n",
       "age                       int64\n",
       "region_code               int64\n",
       "policy_sales_channel      int64\n",
       "driving_license           int64\n",
       "vehicle_age              object\n",
       "vehicle_damage           object\n",
       "previously_insured        int64\n",
       "annual_premium          float64\n",
       "vintage                   int64\n",
       "response                  int64\n",
       "dtype: object"
      ]
     },
     "execution_count": 12,
     "metadata": {},
     "output_type": "execute_result"
    }
   ],
   "source": [
    "## change type\n",
    "df1['region_code'] = df1['region_code'].astype(int)\n",
    "df1['policy_sales_channel'] = df1['policy_sales_channel'].astype(int)\n",
    "df1.dtypes"
   ]
  },
  {
   "cell_type": "code",
   "execution_count": 13,
   "id": "291d3e06",
   "metadata": {
    "ExecuteTime": {
     "end_time": "2022-12-20T22:16:35.518637Z",
     "start_time": "2022-12-20T22:16:35.414934Z"
    }
   },
   "outputs": [
    {
     "data": {
      "text/html": [
       "<div>\n",
       "<style scoped>\n",
       "    .dataframe tbody tr th:only-of-type {\n",
       "        vertical-align: middle;\n",
       "    }\n",
       "\n",
       "    .dataframe tbody tr th {\n",
       "        vertical-align: top;\n",
       "    }\n",
       "\n",
       "    .dataframe thead th {\n",
       "        text-align: right;\n",
       "    }\n",
       "</style>\n",
       "<table border=\"1\" class=\"dataframe\">\n",
       "  <thead>\n",
       "    <tr style=\"text-align: right;\">\n",
       "      <th></th>\n",
       "      <th>attribute</th>\n",
       "      <th>mean</th>\n",
       "      <th>median</th>\n",
       "      <th>max</th>\n",
       "      <th>min</th>\n",
       "      <th>range</th>\n",
       "      <th>skew</th>\n",
       "      <th>kurtosis</th>\n",
       "    </tr>\n",
       "  </thead>\n",
       "  <tbody>\n",
       "    <tr>\n",
       "      <th>0</th>\n",
       "      <td>age</td>\n",
       "      <td>38.822584</td>\n",
       "      <td>36.0</td>\n",
       "      <td>85.0</td>\n",
       "      <td>20.0</td>\n",
       "      <td>65.0</td>\n",
       "      <td>0.672539</td>\n",
       "      <td>-0.565655</td>\n",
       "    </tr>\n",
       "    <tr>\n",
       "      <th>1</th>\n",
       "      <td>region_code</td>\n",
       "      <td>26.388807</td>\n",
       "      <td>28.0</td>\n",
       "      <td>52.0</td>\n",
       "      <td>0.0</td>\n",
       "      <td>52.0</td>\n",
       "      <td>-0.115266</td>\n",
       "      <td>-0.867857</td>\n",
       "    </tr>\n",
       "    <tr>\n",
       "      <th>2</th>\n",
       "      <td>policy_sales_channel</td>\n",
       "      <td>112.034295</td>\n",
       "      <td>133.0</td>\n",
       "      <td>163.0</td>\n",
       "      <td>1.0</td>\n",
       "      <td>162.0</td>\n",
       "      <td>-0.900008</td>\n",
       "      <td>-0.970810</td>\n",
       "    </tr>\n",
       "    <tr>\n",
       "      <th>3</th>\n",
       "      <td>driving_license</td>\n",
       "      <td>0.997869</td>\n",
       "      <td>1.0</td>\n",
       "      <td>1.0</td>\n",
       "      <td>0.0</td>\n",
       "      <td>1.0</td>\n",
       "      <td>-21.595182</td>\n",
       "      <td>464.354302</td>\n",
       "    </tr>\n",
       "    <tr>\n",
       "      <th>4</th>\n",
       "      <td>previously_insured</td>\n",
       "      <td>0.458210</td>\n",
       "      <td>0.0</td>\n",
       "      <td>1.0</td>\n",
       "      <td>0.0</td>\n",
       "      <td>1.0</td>\n",
       "      <td>0.167747</td>\n",
       "      <td>-1.971871</td>\n",
       "    </tr>\n",
       "    <tr>\n",
       "      <th>5</th>\n",
       "      <td>annual_premium</td>\n",
       "      <td>30564.389581</td>\n",
       "      <td>31669.0</td>\n",
       "      <td>540165.0</td>\n",
       "      <td>2630.0</td>\n",
       "      <td>537535.0</td>\n",
       "      <td>1.766087</td>\n",
       "      <td>34.004569</td>\n",
       "    </tr>\n",
       "    <tr>\n",
       "      <th>6</th>\n",
       "      <td>vintage</td>\n",
       "      <td>154.347397</td>\n",
       "      <td>154.0</td>\n",
       "      <td>299.0</td>\n",
       "      <td>10.0</td>\n",
       "      <td>289.0</td>\n",
       "      <td>0.003030</td>\n",
       "      <td>-1.200688</td>\n",
       "    </tr>\n",
       "    <tr>\n",
       "      <th>7</th>\n",
       "      <td>response</td>\n",
       "      <td>0.122563</td>\n",
       "      <td>0.0</td>\n",
       "      <td>1.0</td>\n",
       "      <td>0.0</td>\n",
       "      <td>1.0</td>\n",
       "      <td>2.301906</td>\n",
       "      <td>3.298788</td>\n",
       "    </tr>\n",
       "  </tbody>\n",
       "</table>\n",
       "</div>"
      ],
      "text/plain": [
       "              attribute          mean   median       max     min     range  \\\n",
       "0                   age     38.822584     36.0      85.0    20.0      65.0   \n",
       "1           region_code     26.388807     28.0      52.0     0.0      52.0   \n",
       "2  policy_sales_channel    112.034295    133.0     163.0     1.0     162.0   \n",
       "3       driving_license      0.997869      1.0       1.0     0.0       1.0   \n",
       "4    previously_insured      0.458210      0.0       1.0     0.0       1.0   \n",
       "5        annual_premium  30564.389581  31669.0  540165.0  2630.0  537535.0   \n",
       "6               vintage    154.347397    154.0     299.0    10.0     289.0   \n",
       "7              response      0.122563      0.0       1.0     0.0       1.0   \n",
       "\n",
       "        skew    kurtosis  \n",
       "0   0.672539   -0.565655  \n",
       "1  -0.115266   -0.867857  \n",
       "2  -0.900008   -0.970810  \n",
       "3 -21.595182  464.354302  \n",
       "4   0.167747   -1.971871  \n",
       "5   1.766087   34.004569  \n",
       "6   0.003030   -1.200688  \n",
       "7   2.301906    3.298788  "
      ]
     },
     "execution_count": 13,
     "metadata": {},
     "output_type": "execute_result"
    }
   ],
   "source": [
    "## estatistic\n",
    "# numeric\n",
    "num_attributes = df1.select_dtypes(include=['int64', 'float64'])\n",
    "num_attributes = num_attributes.drop('id', axis=1)\n",
    "\n",
    "# central tendency\n",
    "# mean / median\n",
    "c1 = pd.DataFrame(num_attributes.apply(np.mean)).T\n",
    "c2 = pd.DataFrame(num_attributes.apply(np.median)).T\n",
    "\n",
    "# dispersion tendency\n",
    "#max / min / range / std / sknew / kurtosi\n",
    "d1 = pd.DataFrame(num_attributes.apply(np.max)).T\n",
    "d2 = pd.DataFrame(num_attributes.apply(np.min)).T\n",
    "d3 = pd.DataFrame(num_attributes.apply(lambda x: x.max() - x.min())).T\n",
    "d4 = pd.DataFrame(num_attributes.apply(lambda x: x.skew())).T\n",
    "d5 = pd.DataFrame(num_attributes.apply(lambda x: x.kurtosis())).T\n",
    "\n",
    "# concat\n",
    "df_num = pd.concat([c1,c2,d1,d2,d3,d4,d5]).T.reset_index()\n",
    "df_num.columns = ['attribute', 'mean', 'median', 'max', 'min', 'range', 'skew', 'kurtosis']\n",
    "df_num"
   ]
  },
  {
   "cell_type": "markdown",
   "id": "28a76452",
   "metadata": {},
   "source": [
    "**NOTA**:"
   ]
  },
  {
   "cell_type": "code",
   "execution_count": 14,
   "id": "f8e908ac",
   "metadata": {
    "ExecuteTime": {
     "end_time": "2022-12-20T22:16:35.605087Z",
     "start_time": "2022-12-20T22:16:35.519933Z"
    }
   },
   "outputs": [
    {
     "data": {
      "text/plain": [
       "gender            2\n",
       "vehicle_age       3\n",
       "vehicle_damage    2\n",
       "dtype: int64"
      ]
     },
     "execution_count": 14,
     "metadata": {},
     "output_type": "execute_result"
    }
   ],
   "source": [
    "## estatistic\n",
    "# categorical\n",
    "cat_attributes = df1.select_dtypes(exclude= ['int64', 'float64'])\n",
    "cat_attributes.apply(lambda x: x.unique().shape[0])"
   ]
  },
  {
   "cell_type": "code",
   "execution_count": 15,
   "id": "774833b8",
   "metadata": {
    "ExecuteTime": {
     "end_time": "2022-12-20T22:16:35.683974Z",
     "start_time": "2022-12-20T22:16:35.606868Z"
    }
   },
   "outputs": [
    {
     "name": "stdout",
     "output_type": "stream",
     "text": [
      "Male      206089\n",
      "Female    175020\n",
      "Name: gender, dtype: int64\n"
     ]
    },
    {
     "data": {
      "text/html": [
       "<div>\n",
       "<style scoped>\n",
       "    .dataframe tbody tr th:only-of-type {\n",
       "        vertical-align: middle;\n",
       "    }\n",
       "\n",
       "    .dataframe tbody tr th {\n",
       "        vertical-align: top;\n",
       "    }\n",
       "\n",
       "    .dataframe thead th {\n",
       "        text-align: right;\n",
       "    }\n",
       "</style>\n",
       "<table border=\"1\" class=\"dataframe\">\n",
       "  <thead>\n",
       "    <tr style=\"text-align: right;\">\n",
       "      <th></th>\n",
       "      <th>gender</th>\n",
       "      <th>response</th>\n",
       "      <th>id</th>\n",
       "    </tr>\n",
       "  </thead>\n",
       "  <tbody>\n",
       "    <tr>\n",
       "      <th>0</th>\n",
       "      <td>Female</td>\n",
       "      <td>0</td>\n",
       "      <td>156835</td>\n",
       "    </tr>\n",
       "    <tr>\n",
       "      <th>1</th>\n",
       "      <td>Female</td>\n",
       "      <td>1</td>\n",
       "      <td>18185</td>\n",
       "    </tr>\n",
       "    <tr>\n",
       "      <th>2</th>\n",
       "      <td>Male</td>\n",
       "      <td>0</td>\n",
       "      <td>177564</td>\n",
       "    </tr>\n",
       "    <tr>\n",
       "      <th>3</th>\n",
       "      <td>Male</td>\n",
       "      <td>1</td>\n",
       "      <td>28525</td>\n",
       "    </tr>\n",
       "  </tbody>\n",
       "</table>\n",
       "</div>"
      ],
      "text/plain": [
       "   gender  response      id\n",
       "0  Female         0  156835\n",
       "1  Female         1   18185\n",
       "2    Male         0  177564\n",
       "3    Male         1   28525"
      ]
     },
     "execution_count": 15,
     "metadata": {},
     "output_type": "execute_result"
    }
   ],
   "source": [
    "print(cat_attributes['gender'].value_counts())\n",
    "\n",
    "aux1 = df1[['id', 'response','gender']].groupby(['gender','response']).count().reset_index()\n",
    "aux1"
   ]
  },
  {
   "cell_type": "code",
   "execution_count": 16,
   "id": "61105cd9",
   "metadata": {
    "ExecuteTime": {
     "end_time": "2022-12-20T22:16:35.760296Z",
     "start_time": "2022-12-20T22:16:35.685474Z"
    }
   },
   "outputs": [
    {
     "name": "stdout",
     "output_type": "stream",
     "text": [
      "1-2 Year     200316\n",
      "< 1 Year     164786\n",
      "> 2 Years     16007\n",
      "Name: vehicle_age, dtype: int64\n"
     ]
    },
    {
     "data": {
      "text/html": [
       "<div>\n",
       "<style scoped>\n",
       "    .dataframe tbody tr th:only-of-type {\n",
       "        vertical-align: middle;\n",
       "    }\n",
       "\n",
       "    .dataframe tbody tr th {\n",
       "        vertical-align: top;\n",
       "    }\n",
       "\n",
       "    .dataframe thead th {\n",
       "        text-align: right;\n",
       "    }\n",
       "</style>\n",
       "<table border=\"1\" class=\"dataframe\">\n",
       "  <thead>\n",
       "    <tr style=\"text-align: right;\">\n",
       "      <th></th>\n",
       "      <th>vehicle_age</th>\n",
       "      <th>response</th>\n",
       "      <th>id</th>\n",
       "    </tr>\n",
       "  </thead>\n",
       "  <tbody>\n",
       "    <tr>\n",
       "      <th>0</th>\n",
       "      <td>1-2 Year</td>\n",
       "      <td>0</td>\n",
       "      <td>165510</td>\n",
       "    </tr>\n",
       "    <tr>\n",
       "      <th>1</th>\n",
       "      <td>1-2 Year</td>\n",
       "      <td>1</td>\n",
       "      <td>34806</td>\n",
       "    </tr>\n",
       "    <tr>\n",
       "      <th>2</th>\n",
       "      <td>&lt; 1 Year</td>\n",
       "      <td>0</td>\n",
       "      <td>157584</td>\n",
       "    </tr>\n",
       "    <tr>\n",
       "      <th>3</th>\n",
       "      <td>&lt; 1 Year</td>\n",
       "      <td>1</td>\n",
       "      <td>7202</td>\n",
       "    </tr>\n",
       "    <tr>\n",
       "      <th>4</th>\n",
       "      <td>&gt; 2 Years</td>\n",
       "      <td>0</td>\n",
       "      <td>11305</td>\n",
       "    </tr>\n",
       "    <tr>\n",
       "      <th>5</th>\n",
       "      <td>&gt; 2 Years</td>\n",
       "      <td>1</td>\n",
       "      <td>4702</td>\n",
       "    </tr>\n",
       "  </tbody>\n",
       "</table>\n",
       "</div>"
      ],
      "text/plain": [
       "  vehicle_age  response      id\n",
       "0    1-2 Year         0  165510\n",
       "1    1-2 Year         1   34806\n",
       "2    < 1 Year         0  157584\n",
       "3    < 1 Year         1    7202\n",
       "4   > 2 Years         0   11305\n",
       "5   > 2 Years         1    4702"
      ]
     },
     "execution_count": 16,
     "metadata": {},
     "output_type": "execute_result"
    }
   ],
   "source": [
    "print(cat_attributes['vehicle_age'].value_counts())\n",
    "\n",
    "aux2 = df1[['id', 'response','vehicle_age']].groupby(['vehicle_age','response']).count().reset_index()\n",
    "aux2"
   ]
  },
  {
   "cell_type": "code",
   "execution_count": 17,
   "id": "520ebd5a",
   "metadata": {
    "ExecuteTime": {
     "end_time": "2022-12-20T22:16:35.836402Z",
     "start_time": "2022-12-20T22:16:35.761640Z"
    }
   },
   "outputs": [
    {
     "name": "stdout",
     "output_type": "stream",
     "text": [
      "Yes    192413\n",
      "No     188696\n",
      "Name: vehicle_damage, dtype: int64\n"
     ]
    },
    {
     "data": {
      "text/html": [
       "<div>\n",
       "<style scoped>\n",
       "    .dataframe tbody tr th:only-of-type {\n",
       "        vertical-align: middle;\n",
       "    }\n",
       "\n",
       "    .dataframe tbody tr th {\n",
       "        vertical-align: top;\n",
       "    }\n",
       "\n",
       "    .dataframe thead th {\n",
       "        text-align: right;\n",
       "    }\n",
       "</style>\n",
       "<table border=\"1\" class=\"dataframe\">\n",
       "  <thead>\n",
       "    <tr style=\"text-align: right;\">\n",
       "      <th></th>\n",
       "      <th>vehicle_damage</th>\n",
       "      <th>response</th>\n",
       "      <th>id</th>\n",
       "    </tr>\n",
       "  </thead>\n",
       "  <tbody>\n",
       "    <tr>\n",
       "      <th>0</th>\n",
       "      <td>No</td>\n",
       "      <td>0</td>\n",
       "      <td>187714</td>\n",
       "    </tr>\n",
       "    <tr>\n",
       "      <th>1</th>\n",
       "      <td>No</td>\n",
       "      <td>1</td>\n",
       "      <td>982</td>\n",
       "    </tr>\n",
       "    <tr>\n",
       "      <th>2</th>\n",
       "      <td>Yes</td>\n",
       "      <td>0</td>\n",
       "      <td>146685</td>\n",
       "    </tr>\n",
       "    <tr>\n",
       "      <th>3</th>\n",
       "      <td>Yes</td>\n",
       "      <td>1</td>\n",
       "      <td>45728</td>\n",
       "    </tr>\n",
       "  </tbody>\n",
       "</table>\n",
       "</div>"
      ],
      "text/plain": [
       "  vehicle_damage  response      id\n",
       "0             No         0  187714\n",
       "1             No         1     982\n",
       "2            Yes         0  146685\n",
       "3            Yes         1   45728"
      ]
     },
     "execution_count": 17,
     "metadata": {},
     "output_type": "execute_result"
    }
   ],
   "source": [
    "print(cat_attributes['vehicle_damage'].value_counts())\n",
    "\n",
    "aux3 = df1[['id', 'response','vehicle_damage']].groupby(['vehicle_damage','response']).count().reset_index()\n",
    "aux3"
   ]
  },
  {
   "cell_type": "code",
   "execution_count": 18,
   "id": "6268ad7a",
   "metadata": {
    "ExecuteTime": {
     "end_time": "2022-12-20T22:16:36.202549Z",
     "start_time": "2022-12-20T22:16:35.837840Z"
    }
   },
   "outputs": [
    {
     "data": {
      "image/png": "[encoded data removed]",
      "text/plain": [
       "<Figure size 1800x700 with 3 Axes>"
      ]
     },
     "metadata": {},
     "output_type": "display_data"
    }
   ],
   "source": [
    "plt.figure(figsize=(18,7))\n",
    "\n",
    "plt.subplot(1,3,1)\n",
    "ax = sns.barplot(data=aux1, x='response', y='id', hue='gender')\n",
    "for container in ax.containers:\n",
    "    ax.bar_label(container)\n",
    "\n",
    "plt.subplot(1,3,2)\n",
    "ax1 = sns.barplot(data=aux2, x='response', y='id', hue='vehicle_age')\n",
    "for container in ax1.containers:\n",
    "    ax1.bar_label(container)\n",
    "\n",
    "plt.subplot(1,3,3)\n",
    "ax2 = sns.barplot(data=aux3, x='response', y='id', hue='vehicle_damage')\n",
    "for container in ax2.containers:\n",
    "    ax2.bar_label(container);"
   ]
  },
  {
   "cell_type": "markdown",
   "id": "c02e780f",
   "metadata": {},
   "source": [
    "**NOTA:**"
   ]
  },
  {
   "cell_type": "markdown",
   "id": "40dda72d",
   "metadata": {},
   "source": [
    "**OUTLIERS:**"
   ]
  },
  {
   "cell_type": "code",
   "execution_count": 19,
   "id": "eb9150ae",
   "metadata": {
    "ExecuteTime": {
     "end_time": "2022-12-20T22:16:36.512975Z",
     "start_time": "2022-12-20T22:16:36.204943Z"
    }
   },
   "outputs": [
    {
     "data": {
      "image/png": "[encoded data removed]",
      "text/plain": [
       "<Figure size 1800x700 with 2 Axes>"
      ]
     },
     "metadata": {},
     "output_type": "display_data"
    }
   ],
   "source": [
    "# 'age', 'annual_premium', 'vintage'\n",
    "plt.figure(figsize=(18,7))\n",
    "\n",
    "plt.subplot(1,2,1)\n",
    "sns.boxplot(data=df1, x='age')\n",
    "\n",
    "plt.subplot(1,2,2)\n",
    "sns.histplot(data=df1, x='age');"
   ]
  },
  {
   "cell_type": "code",
   "execution_count": 20,
   "id": "d060823b",
   "metadata": {
    "ExecuteTime": {
     "end_time": "2022-12-20T22:16:37.828102Z",
     "start_time": "2022-12-20T22:16:36.514389Z"
    }
   },
   "outputs": [
    {
     "data": {
      "image/png": "[encoded data removed]",
      "text/plain": [
       "<Figure size 1800x700 with 2 Axes>"
      ]
     },
     "metadata": {},
     "output_type": "display_data"
    }
   ],
   "source": [
    "# 'age', 'annual_premium', 'vintage'\n",
    "plt.figure(figsize=(18,7))\n",
    "\n",
    "plt.subplot(1,2,1)\n",
    "sns.boxplot(data=df1, x='annual_premium')\n",
    "\n",
    "plt.subplot(1,2,2)\n",
    "sns.histplot(data=df1, x='annual_premium');"
   ]
  },
  {
   "cell_type": "markdown",
   "id": "340ec288",
   "metadata": {},
   "source": [
    "**O que fazer como os outliers nesse caso?**"
   ]
  },
  {
   "cell_type": "code",
   "execution_count": 21,
   "id": "6c53522a",
   "metadata": {
    "ExecuteTime": {
     "end_time": "2022-12-20T22:16:38.125603Z",
     "start_time": "2022-12-20T22:16:37.829434Z"
    }
   },
   "outputs": [
    {
     "data": {
      "image/png": "[encoded data removed]",
      "text/plain": [
       "<Figure size 1800x700 with 2 Axes>"
      ]
     },
     "metadata": {},
     "output_type": "display_data"
    }
   ],
   "source": [
    "# 'age', 'annual_premium', 'vintage'\n",
    "plt.figure(figsize=(18,7))\n",
    "\n",
    "plt.subplot(1,2,1)\n",
    "sns.boxplot(data=df1, x='vintage')\n",
    "\n",
    "plt.subplot(1,2,2)\n",
    "sns.histplot(data=df1, x='vintage');"
   ]
  },
  {
   "cell_type": "code",
   "execution_count": null,
   "id": "556ae6bf",
   "metadata": {},
   "outputs": [],
   "source": []
  },
  {
   "cell_type": "code",
   "execution_count": null,
   "id": "9687f631",
   "metadata": {},
   "outputs": [],
   "source": []
  },
  {
   "cell_type": "markdown",
   "id": "3f40c4db",
   "metadata": {},
   "source": [
    "## EDA - Exploratory Data Analysis"
   ]
  },
  {
   "cell_type": "code",
   "execution_count": 22,
   "id": "7b11b642",
   "metadata": {
    "ExecuteTime": {
     "end_time": "2022-12-20T22:16:38.149740Z",
     "start_time": "2022-12-20T22:16:38.126949Z"
    }
   },
   "outputs": [],
   "source": [
    "df2 = df1.copy()"
   ]
  },
  {
   "cell_type": "markdown",
   "id": "6a186681",
   "metadata": {},
   "source": [
    "### Univariate Analysis"
   ]
  },
  {
   "cell_type": "code",
   "execution_count": 23,
   "id": "abaffb23",
   "metadata": {
    "ExecuteTime": {
     "end_time": "2022-12-20T22:16:38.240939Z",
     "start_time": "2022-12-20T22:16:38.151097Z"
    }
   },
   "outputs": [
    {
     "data": {
      "image/png": "[encoded data removed]",
      "text/plain": [
       "<Figure size 640x480 with 1 Axes>"
      ]
     },
     "metadata": {},
     "output_type": "display_data"
    }
   ],
   "source": [
    "# variavel resposta\n",
    "ax = sns.countplot(x='response', data=df2 )\n",
    "ax.bar_label(ax.containers[0]);"
   ]
  },
  {
   "cell_type": "markdown",
   "id": "257f6c31",
   "metadata": {},
   "source": [
    "**NOTA:**"
   ]
  },
  {
   "cell_type": "markdown",
   "id": "b8b3aa3e",
   "metadata": {},
   "source": [
    "### Bivariate Analysis"
   ]
  },
  {
   "cell_type": "markdown",
   "id": "aa45ec8b",
   "metadata": {},
   "source": [
    "**H1: Automóvel com mais idade o cliente tem menos interesse de obter o seguro.**\n",
    "FALSO\n",
    "\n",
    "-> De acordo com os dados. Automoveis de:\n",
    " * < 1 ano(menor que 1 ano): 4% tem interesse e 96% não tem interesse em obter o seguro de automoveis.\n",
    " * 1-2 anos: 18% tem interesse e 82% não tem interesse em obter o seguro de automoveis.\n",
    " * '> 2 anos'(maior que 2 anos): 30% tem interesse e 70% não tem interesse em obter o seguro de automoveis."
   ]
  },
  {
   "cell_type": "code",
   "execution_count": 26,
   "id": "97d08d34",
   "metadata": {
    "ExecuteTime": {
     "end_time": "2022-12-20T22:16:38.326507Z",
     "start_time": "2022-12-20T22:16:38.259542Z"
    }
   },
   "outputs": [
    {
     "name": "stderr",
     "output_type": "stream",
     "text": [
      "/tmp/ipykernel_4301/2300680137.py:3: FutureWarning: The default value of numeric_only in DataFrameGroupBy.sum is deprecated. In a future version, numeric_only will default to False. Either specify numeric_only or select only columns which should be valid for the function.\n",
      "  aux['sum'] = aux.groupby('vehicle_age')[['vehicle_age', 'count']].transform(np.sum)\n"
     ]
    },
    {
     "data": {
      "text/html": [
       "<div>\n",
       "<style scoped>\n",
       "    .dataframe tbody tr th:only-of-type {\n",
       "        vertical-align: middle;\n",
       "    }\n",
       "\n",
       "    .dataframe tbody tr th {\n",
       "        vertical-align: top;\n",
       "    }\n",
       "\n",
       "    .dataframe thead th {\n",
       "        text-align: right;\n",
       "    }\n",
       "</style>\n",
       "<table border=\"1\" class=\"dataframe\">\n",
       "  <thead>\n",
       "    <tr style=\"text-align: right;\">\n",
       "      <th></th>\n",
       "      <th>vehicle_age</th>\n",
       "      <th>response</th>\n",
       "      <th>count</th>\n",
       "      <th>sum</th>\n",
       "      <th>percentual</th>\n",
       "    </tr>\n",
       "  </thead>\n",
       "  <tbody>\n",
       "    <tr>\n",
       "      <th>0</th>\n",
       "      <td>1-2 Year</td>\n",
       "      <td>0</td>\n",
       "      <td>165510</td>\n",
       "      <td>200316</td>\n",
       "      <td>82.62</td>\n",
       "    </tr>\n",
       "    <tr>\n",
       "      <th>1</th>\n",
       "      <td>1-2 Year</td>\n",
       "      <td>1</td>\n",
       "      <td>34806</td>\n",
       "      <td>200316</td>\n",
       "      <td>17.38</td>\n",
       "    </tr>\n",
       "    <tr>\n",
       "      <th>2</th>\n",
       "      <td>&lt; 1 Year</td>\n",
       "      <td>0</td>\n",
       "      <td>157584</td>\n",
       "      <td>164786</td>\n",
       "      <td>95.63</td>\n",
       "    </tr>\n",
       "    <tr>\n",
       "      <th>3</th>\n",
       "      <td>&lt; 1 Year</td>\n",
       "      <td>1</td>\n",
       "      <td>7202</td>\n",
       "      <td>164786</td>\n",
       "      <td>4.37</td>\n",
       "    </tr>\n",
       "    <tr>\n",
       "      <th>4</th>\n",
       "      <td>&gt; 2 Years</td>\n",
       "      <td>0</td>\n",
       "      <td>11305</td>\n",
       "      <td>16007</td>\n",
       "      <td>70.63</td>\n",
       "    </tr>\n",
       "    <tr>\n",
       "      <th>5</th>\n",
       "      <td>&gt; 2 Years</td>\n",
       "      <td>1</td>\n",
       "      <td>4702</td>\n",
       "      <td>16007</td>\n",
       "      <td>29.37</td>\n",
       "    </tr>\n",
       "  </tbody>\n",
       "</table>\n",
       "</div>"
      ],
      "text/plain": [
       "  vehicle_age  response   count     sum  percentual\n",
       "0    1-2 Year         0  165510  200316       82.62\n",
       "1    1-2 Year         1   34806  200316       17.38\n",
       "2    < 1 Year         0  157584  164786       95.63\n",
       "3    < 1 Year         1    7202  164786        4.37\n",
       "4   > 2 Years         0   11305   16007       70.63\n",
       "5   > 2 Years         1    4702   16007       29.37"
      ]
     },
     "execution_count": 26,
     "metadata": {},
     "output_type": "execute_result"
    }
   ],
   "source": [
    "aux = df2[['vehicle_age', 'response', 'id']].groupby(['vehicle_age', 'response']).count().reset_index()\n",
    "aux = aux.rename(columns={'id': 'count'})\n",
    "aux['sum'] = aux.groupby('vehicle_age')[['vehicle_age', 'count']].transform(np.sum)\n",
    "# aux['sum'] = grouped.transform(np.sum)\n",
    "aux['percentual'] = aux.apply(lambda x: round(x['count']/ x['sum'] *100, 2), axis=1)\n",
    "aux"
   ]
  },
  {
   "cell_type": "code",
   "execution_count": 27,
   "id": "1a1d2593",
   "metadata": {
    "ExecuteTime": {
     "end_time": "2022-12-20T22:16:38.593728Z",
     "start_time": "2022-12-20T22:16:38.327577Z"
    }
   },
   "outputs": [
    {
     "data": {
      "image/png": "[encoded data removed]",
      "text/plain": [
       "<Figure size 1800x700 with 2 Axes>"
      ]
     },
     "metadata": {},
     "output_type": "display_data"
    }
   ],
   "source": [
    "plt.figure(figsize=(18,7))\n",
    "\n",
    "plt.subplot(1,2,1)\n",
    "ax = sns.barplot(data=aux, x='vehicle_age', y= 'count', hue='response')\n",
    "for container in ax.containers:\n",
    "    ax.bar_label(container);\n",
    "    \n",
    "plt.subplot(1,2,2)\n",
    "ax = sns.barplot(data=aux, x='vehicle_age', y= 'percentual', hue='response')\n",
    "for container in ax.containers:\n",
    "    ax.bar_label(container);"
   ]
  },
  {
   "cell_type": "markdown",
   "id": "a47ad69c",
   "metadata": {},
   "source": [
    "**H2: Clientes mais velhos tem mais interesse de obter o seguro**\n",
    "- Como podemos observar através do grafico de histograma, o intervalo entra 35 e 50 anos foi que mais apresentou interesse no seguro de veiculos. "
   ]
  },
  {
   "cell_type": "code",
   "execution_count": 28,
   "id": "cbd82c07",
   "metadata": {
    "ExecuteTime": {
     "end_time": "2022-12-20T22:16:38.835310Z",
     "start_time": "2022-12-20T22:16:38.596893Z"
    }
   },
   "outputs": [
    {
     "data": {
      "image/png": "[encoded data removed]",
      "text/plain": [
       "<Figure size 640x480 with 1 Axes>"
      ]
     },
     "metadata": {},
     "output_type": "display_data"
    }
   ],
   "source": [
    "df2.pivot(columns='response', values='age').plot.hist()\n",
    "plt.show()"
   ]
  },
  {
   "cell_type": "markdown",
   "id": "1cfc1b1a",
   "metadata": {},
   "source": [
    "**H3: Clientes que tem mais tempo ja com a empresa tem mais interesse de obter outro seguro**\n",
    "- De acordo com a análise realizada, não foi possivel concluir alguma correlação com o tempo que o cliente está associado a empresa com o seu interesse ou não de adquirir um novo seguro."
   ]
  },
  {
   "cell_type": "code",
   "execution_count": 65,
   "id": "f71c48c0",
   "metadata": {
    "ExecuteTime": {
     "end_time": "2022-12-20T22:57:50.693129Z",
     "start_time": "2022-12-20T22:57:50.340034Z"
    }
   },
   "outputs": [
    {
     "data": {
      "image/png": "[encoded data removed]",
      "text/plain": [
       "<Figure size 1800x700 with 2 Axes>"
      ]
     },
     "metadata": {},
     "output_type": "display_data"
    }
   ],
   "source": [
    "bins = [0,50,100,150,200,250,300]\n",
    "df2['vintage_bins'] = pd.cut(x= df2['vintage'], bins=bins, include_lowest = True)\n",
    "aux = df2[['vintage_bins', 'response', 'id']].groupby(['vintage_bins', 'response']).count().reset_index()\n",
    "\n",
    "plt.figure(figsize=(18,7))\n",
    "plt.subplot(1,2,1)\n",
    "plt.title('Bins de Tempo de associado a seguradora - cliente interessado e não')\n",
    "sns.barplot(data=aux, x='vintage_bins', y='id', hue='response')\n",
    "\n",
    "plt.subplot(1,2,2)\n",
    "plt.title('Dispersão de Interessados X Tempo de associados')\n",
    "aux = df2.loc[df2['response'] == 1,['vintage', 'id']].groupby('vintage').count().reset_index()\n",
    "aux = aux.rename(columns={'id':'count'})\n",
    "\n",
    "sns.scatterplot(data=aux, x='vintage',y='count' );\n",
    "\n",
    "\n"
   ]
  },
  {
   "cell_type": "markdown",
   "id": "47b1aa32",
   "metadata": {},
   "source": [
    "**H4: Automóveis que já ocorreu alguma danificação no passado, o dono tem mais interesse de obter o seguro.**\n",
    "VERDADEIRO\n",
    " - De fato se o cliente já teve o seu carro danificado no passado, ele tem mais interesse em obter o seguro de automovel. \n"
   ]
  },
  {
   "cell_type": "code",
   "execution_count": 66,
   "id": "01dec506",
   "metadata": {
    "ExecuteTime": {
     "end_time": "2022-12-20T23:00:33.710252Z",
     "start_time": "2022-12-20T23:00:33.698291Z"
    }
   },
   "outputs": [
    {
     "data": {
      "text/html": [
       "<div>\n",
       "<style scoped>\n",
       "    .dataframe tbody tr th:only-of-type {\n",
       "        vertical-align: middle;\n",
       "    }\n",
       "\n",
       "    .dataframe tbody tr th {\n",
       "        vertical-align: top;\n",
       "    }\n",
       "\n",
       "    .dataframe thead th {\n",
       "        text-align: right;\n",
       "    }\n",
       "</style>\n",
       "<table border=\"1\" class=\"dataframe\">\n",
       "  <thead>\n",
       "    <tr style=\"text-align: right;\">\n",
       "      <th></th>\n",
       "      <th>id</th>\n",
       "      <th>gender</th>\n",
       "      <th>age</th>\n",
       "      <th>region_code</th>\n",
       "      <th>policy_sales_channel</th>\n",
       "      <th>driving_license</th>\n",
       "      <th>vehicle_age</th>\n",
       "      <th>vehicle_damage</th>\n",
       "      <th>previously_insured</th>\n",
       "      <th>annual_premium</th>\n",
       "      <th>vintage</th>\n",
       "      <th>response</th>\n",
       "      <th>vintage_bins</th>\n",
       "    </tr>\n",
       "  </thead>\n",
       "  <tbody>\n",
       "    <tr>\n",
       "      <th>0</th>\n",
       "      <td>7</td>\n",
       "      <td>Male</td>\n",
       "      <td>23</td>\n",
       "      <td>11</td>\n",
       "      <td>152</td>\n",
       "      <td>1</td>\n",
       "      <td>&lt; 1 Year</td>\n",
       "      <td>Yes</td>\n",
       "      <td>0</td>\n",
       "      <td>23367.0</td>\n",
       "      <td>249</td>\n",
       "      <td>0</td>\n",
       "      <td>(200.0, 250.0]</td>\n",
       "    </tr>\n",
       "    <tr>\n",
       "      <th>1</th>\n",
       "      <td>13</td>\n",
       "      <td>Female</td>\n",
       "      <td>41</td>\n",
       "      <td>15</td>\n",
       "      <td>14</td>\n",
       "      <td>1</td>\n",
       "      <td>1-2 Year</td>\n",
       "      <td>No</td>\n",
       "      <td>1</td>\n",
       "      <td>31409.0</td>\n",
       "      <td>221</td>\n",
       "      <td>0</td>\n",
       "      <td>(200.0, 250.0]</td>\n",
       "    </tr>\n",
       "    <tr>\n",
       "      <th>2</th>\n",
       "      <td>18</td>\n",
       "      <td>Female</td>\n",
       "      <td>25</td>\n",
       "      <td>35</td>\n",
       "      <td>152</td>\n",
       "      <td>1</td>\n",
       "      <td>&lt; 1 Year</td>\n",
       "      <td>No</td>\n",
       "      <td>1</td>\n",
       "      <td>46622.0</td>\n",
       "      <td>299</td>\n",
       "      <td>0</td>\n",
       "      <td>(250.0, 300.0]</td>\n",
       "    </tr>\n",
       "    <tr>\n",
       "      <th>3</th>\n",
       "      <td>31</td>\n",
       "      <td>Female</td>\n",
       "      <td>26</td>\n",
       "      <td>8</td>\n",
       "      <td>160</td>\n",
       "      <td>1</td>\n",
       "      <td>&lt; 1 Year</td>\n",
       "      <td>No</td>\n",
       "      <td>0</td>\n",
       "      <td>2630.0</td>\n",
       "      <td>136</td>\n",
       "      <td>0</td>\n",
       "      <td>(100.0, 150.0]</td>\n",
       "    </tr>\n",
       "    <tr>\n",
       "      <th>4</th>\n",
       "      <td>39</td>\n",
       "      <td>Male</td>\n",
       "      <td>45</td>\n",
       "      <td>8</td>\n",
       "      <td>124</td>\n",
       "      <td>1</td>\n",
       "      <td>1-2 Year</td>\n",
       "      <td>Yes</td>\n",
       "      <td>0</td>\n",
       "      <td>42297.0</td>\n",
       "      <td>264</td>\n",
       "      <td>0</td>\n",
       "      <td>(250.0, 300.0]</td>\n",
       "    </tr>\n",
       "  </tbody>\n",
       "</table>\n",
       "</div>"
      ],
      "text/plain": [
       "   id  gender  age  region_code  policy_sales_channel  driving_license  \\\n",
       "0   7    Male   23           11                   152                1   \n",
       "1  13  Female   41           15                    14                1   \n",
       "2  18  Female   25           35                   152                1   \n",
       "3  31  Female   26            8                   160                1   \n",
       "4  39    Male   45            8                   124                1   \n",
       "\n",
       "  vehicle_age vehicle_damage  previously_insured  annual_premium  vintage  \\\n",
       "0    < 1 Year            Yes                   0         23367.0      249   \n",
       "1    1-2 Year             No                   1         31409.0      221   \n",
       "2    < 1 Year             No                   1         46622.0      299   \n",
       "3    < 1 Year             No                   0          2630.0      136   \n",
       "4    1-2 Year            Yes                   0         42297.0      264   \n",
       "\n",
       "   response    vintage_bins  \n",
       "0         0  (200.0, 250.0]  \n",
       "1         0  (200.0, 250.0]  \n",
       "2         0  (250.0, 300.0]  \n",
       "3         0  (100.0, 150.0]  \n",
       "4         0  (250.0, 300.0]  "
      ]
     },
     "execution_count": 66,
     "metadata": {},
     "output_type": "execute_result"
    }
   ],
   "source": [
    "df2.head()"
   ]
  },
  {
   "cell_type": "code",
   "execution_count": 76,
   "id": "b02f0a16",
   "metadata": {
    "ExecuteTime": {
     "end_time": "2022-12-20T23:18:13.089310Z",
     "start_time": "2022-12-20T23:18:13.062747Z"
    }
   },
   "outputs": [
    {
     "data": {
      "text/plain": [
       "Yes    0.504877\n",
       "No     0.495123\n",
       "Name: vehicle_damage, dtype: float64"
      ]
     },
     "execution_count": 76,
     "metadata": {},
     "output_type": "execute_result"
    }
   ],
   "source": [
    "df2['vehicle_damage'].value_counts(normalize=True)"
   ]
  },
  {
   "cell_type": "code",
   "execution_count": 72,
   "id": "39aa6298",
   "metadata": {
    "ExecuteTime": {
     "end_time": "2022-12-20T23:11:44.627371Z",
     "start_time": "2022-12-20T23:11:44.337921Z"
    }
   },
   "outputs": [
    {
     "data": {
      "image/png": "[encoded data removed]",
      "text/plain": [
       "<Figure size 640x480 with 1 Axes>"
      ]
     },
     "metadata": {},
     "output_type": "display_data"
    }
   ],
   "source": [
    "aux = df2[['vehicle_damage', 'response', 'id']].groupby(['vehicle_damage', 'response']).count().reset_index()\n",
    "\n",
    "ax = sns.barplot(data=aux, x='vehicle_damage', y= 'id', hue='response')\n",
    "for container in ax.containers:\n",
    "    ax.bar_label(container)\n"
   ]
  },
  {
   "cell_type": "markdown",
   "id": "58a12204",
   "metadata": {},
   "source": [
    "### Bivariate Analysis"
   ]
  },
  {
   "cell_type": "markdown",
   "id": "5b9dcd55",
   "metadata": {},
   "source": [
    "https://medium.com/dos-dados-%C3%A0-ci%C3%AAncia/correla%C3%A7%C3%A3o-de-vari%C3%A1veis-parte-1-categ%C3%B3ricas-x-quantitativa-3d0bdd73bd30"
   ]
  },
  {
   "cell_type": "code",
   "execution_count": 82,
   "id": "945d0487",
   "metadata": {
    "ExecuteTime": {
     "end_time": "2022-12-20T23:55:57.975273Z",
     "start_time": "2022-12-20T23:55:57.964125Z"
    }
   },
   "outputs": [
    {
     "data": {
      "text/plain": [
       "PointbiserialrResult(correlation=-0.0010503720019898839, pvalue=0.5167036522394602)"
      ]
     },
     "execution_count": 82,
     "metadata": {},
     "output_type": "execute_result"
    }
   ],
   "source": [
    "import scipy.stats as stats\n",
    "\n",
    "#calculate point-biserial correlation\n",
    "stats.pointbiserialr(df2['vintage'], df2['response'])"
   ]
  },
  {
   "cell_type": "markdown",
   "id": "ab8a4d49",
   "metadata": {},
   "source": [
    "Semelhante ao coeficiente de correlação de Pearson , o coeficiente de correlação ponto-bisserial assume um valor entre -1 e 1 onde:\n",
    "\n",
    "    -1 indica uma correlação perfeitamente negativa entre duas variáveis\n",
    "    - 0 indica nenhuma correlação entre duas variáveis\n",
    "    - 1 indica uma correlação perfeitamente positiva entre duas variáveis"
   ]
  },
  {
   "cell_type": "markdown",
   "id": "966219e2",
   "metadata": {},
   "source": [
    "Como o valor p dessa correlação não é menor que 0,05, essa correlação não é estatisticamente significativa."
   ]
  },
  {
   "cell_type": "code",
   "execution_count": null,
   "id": "fd79aba1",
   "metadata": {},
   "outputs": [],
   "source": []
  },
  {
   "cell_type": "code",
   "execution_count": null,
   "id": "2dae5d7d",
   "metadata": {},
   "outputs": [],
   "source": []
  }
 ],
 "metadata": {
  "kernelspec": {
   "display_name": "PA004",
   "language": "python",
   "name": "pa004"
  },
  "language_info": {
   "codemirror_mode": {
    "name": "ipython",
    "version": 3
   },
   "file_extension": ".py",
   "mimetype": "text/x-python",
   "name": "python",
   "nbconvert_exporter": "python",
   "pygments_lexer": "ipython3",
   "version": "3.10.0"
  }
 },
 "nbformat": 4,
 "nbformat_minor": 5
}
