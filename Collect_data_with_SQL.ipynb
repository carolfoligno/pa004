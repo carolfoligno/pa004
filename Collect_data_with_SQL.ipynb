{
 "cells": [
  {
   "cell_type": "markdown",
   "id": "ddb02981",
   "metadata": {},
   "source": [
    "-> SQL Alchemy\n",
    "\n",
    "-> psycopg2\n",
    "\n",
    "-> pandas.io.psql"
   ]
  },
  {
   "cell_type": "code",
   "execution_count": null,
   "id": "bd4eefef",
   "metadata": {
    "ExecuteTime": {
     "end_time": "2022-12-06T23:55:47.086537Z",
     "start_time": "2022-12-06T23:55:43.493826Z"
    }
   },
   "outputs": [],
   "source": [
    "# pip install psycopg2-binary"
   ]
  },
  {
   "cell_type": "code",
   "execution_count": 1,
   "id": "3bf8e5e9",
   "metadata": {
    "ExecuteTime": {
     "end_time": "2022-12-07T13:01:34.869459Z",
     "start_time": "2022-12-07T13:01:34.520692Z"
    }
   },
   "outputs": [],
   "source": [
    "import psycopg2 as pg\n",
    "import pandas as pd"
   ]
  },
  {
   "cell_type": "code",
   "execution_count": 2,
   "id": "9c86aa4e",
   "metadata": {
    "ExecuteTime": {
     "end_time": "2022-12-07T13:01:35.787401Z",
     "start_time": "2022-12-07T13:01:35.785209Z"
    }
   },
   "outputs": [],
   "source": [
    "# Database: Postgress 12.0 - AWS\n",
    "# credenciais\n",
    "host = 'comunidade-ds-postgres.c50pcakiuwi3.us-east-1.rds.amazonaws.com'\n",
    "port = 5432\n",
    "database = 'comunidadedsdb'\n",
    "username = 'member'\n",
    "password = 'cdspa'"
   ]
  },
  {
   "cell_type": "code",
   "execution_count": 3,
   "id": "2c5c88c7",
   "metadata": {
    "ExecuteTime": {
     "end_time": "2022-12-07T13:01:49.150323Z",
     "start_time": "2022-12-07T13:01:47.821110Z"
    }
   },
   "outputs": [],
   "source": [
    "# conectando ao DB\n",
    "conn = pg.connect( user = username,\n",
    "                   password = password,\n",
    "                   host = host,\n",
    "                   port = port,\n",
    "                   database = database)\n",
    "\n",
    "cursor = conn.cursor()\n",
    "\n"
   ]
  },
  {
   "cell_type": "markdown",
   "id": "08396605",
   "metadata": {},
   "source": [
    "**Query que mostra as Schemas do Database**"
   ]
  },
  {
   "cell_type": "code",
   "execution_count": null,
   "id": "1558f0e2",
   "metadata": {
    "ExecuteTime": {
     "end_time": "2022-12-07T00:04:26.822961Z",
     "start_time": "2022-12-07T00:04:26.035051Z"
    }
   },
   "outputs": [],
   "source": [
    "query_schema = \"\"\"\n",
    "    SELECT nspname\n",
    "    FROM pg_catalog.pg_namespace\n",
    "\"\"\"\n",
    "\n",
    "cursor.execute(query_schema)\n",
    "\n",
    "record = cursor.fetchall()\n",
    "cursor.close()\n",
    "conn.close()\n",
    "\n",
    "print(record)"
   ]
  },
  {
   "cell_type": "markdown",
   "id": "6af97312",
   "metadata": {},
   "source": [
    "**Query que mostra as tabelas dentro da Schema PA004**"
   ]
  },
  {
   "cell_type": "code",
   "execution_count": null,
   "id": "8ad499bb",
   "metadata": {
    "ExecuteTime": {
     "end_time": "2022-12-07T00:08:13.936870Z",
     "start_time": "2022-12-07T00:08:13.503743Z"
    }
   },
   "outputs": [],
   "source": [
    "query_table = \"\"\"\n",
    "    SELECT tablename\n",
    "    FROM pg_tables\n",
    "    WHERE schemaname='pa004'\n",
    "\"\"\"\n",
    "\n",
    "cursor.execute(query_table)\n",
    "\n",
    "record = cursor.fetchall()\n",
    "cursor.close()\n",
    "conn.close()\n",
    "\n",
    "print(record)"
   ]
  },
  {
   "cell_type": "code",
   "execution_count": null,
   "id": "3182615f",
   "metadata": {
    "ExecuteTime": {
     "end_time": "2022-12-07T00:15:19.719886Z",
     "start_time": "2022-12-07T00:15:19.481668Z"
    }
   },
   "outputs": [],
   "source": [
    "query_test = \"\"\"\n",
    "    SELECT *\n",
    "    FROM pa004.users u\n",
    "    LIMIT 10\n",
    "\"\"\"\n",
    "\n",
    "cursor.execute(query_test)\n",
    "\n",
    "record = cursor.fetchall()\n",
    "cursor.close()\n",
    "conn.close()\n",
    "\n",
    "print(record)"
   ]
  },
  {
   "cell_type": "code",
   "execution_count": null,
   "id": "4578c321",
   "metadata": {
    "ExecuteTime": {
     "end_time": "2022-12-07T00:15:20.581262Z",
     "start_time": "2022-12-07T00:15:20.566628Z"
    }
   },
   "outputs": [],
   "source": [
    "data = pd.DataFrame( record )\n",
    "data"
   ]
  },
  {
   "cell_type": "markdown",
   "id": "913c8baa",
   "metadata": {},
   "source": [
    "Como é possivel observar, ao se transformar em DataFrame não tem as colunas nomeadas. "
   ]
  },
  {
   "cell_type": "markdown",
   "id": "35939859",
   "metadata": {},
   "source": [
    "### Coletando dados Com Pandas"
   ]
  },
  {
   "cell_type": "code",
   "execution_count": null,
   "id": "79801376",
   "metadata": {
    "ExecuteTime": {
     "end_time": "2022-12-07T00:15:09.064457Z",
     "start_time": "2022-12-07T00:15:09.061641Z"
    }
   },
   "outputs": [],
   "source": [
    "import pandas.io.sql as psql"
   ]
  },
  {
   "cell_type": "code",
   "execution_count": 10,
   "id": "db7cc9b9",
   "metadata": {
    "ExecuteTime": {
     "end_time": "2022-12-07T13:05:29.142124Z",
     "start_time": "2022-12-07T13:05:27.777628Z"
    }
   },
   "outputs": [
    {
     "name": "stderr",
     "output_type": "stream",
     "text": [
      "/tmp/ipykernel_10365/648916041.py:10: UserWarning: pandas only supports SQLAlchemy connectable (engine/connection) or database string URI or sqlite3 DBAPI2 connection. Other DBAPI2 objects are not tested. Please consider using SQLAlchemy.\n",
      "  df_raw = pd.read_sql(query_tables, conn) # não precisa de cursor, faz a conexão direto\n"
     ]
    },
    {
     "data": {
      "text/html": [
       "<div>\n",
       "<style scoped>\n",
       "    .dataframe tbody tr th:only-of-type {\n",
       "        vertical-align: middle;\n",
       "    }\n",
       "\n",
       "    .dataframe tbody tr th {\n",
       "        vertical-align: top;\n",
       "    }\n",
       "\n",
       "    .dataframe thead th {\n",
       "        text-align: right;\n",
       "    }\n",
       "</style>\n",
       "<table border=\"1\" class=\"dataframe\">\n",
       "  <thead>\n",
       "    <tr style=\"text-align: right;\">\n",
       "      <th></th>\n",
       "      <th>id</th>\n",
       "      <th>gender</th>\n",
       "      <th>age</th>\n",
       "      <th>region_code</th>\n",
       "      <th>policy_sales_channel</th>\n",
       "      <th>id</th>\n",
       "      <th>driving_license</th>\n",
       "      <th>vehicle_age</th>\n",
       "      <th>vehicle_damage</th>\n",
       "      <th>id</th>\n",
       "      <th>previously_insured</th>\n",
       "      <th>annual_premium</th>\n",
       "      <th>vintage</th>\n",
       "      <th>response</th>\n",
       "    </tr>\n",
       "  </thead>\n",
       "  <tbody>\n",
       "    <tr>\n",
       "      <th>0</th>\n",
       "      <td>9531</td>\n",
       "      <td>Male</td>\n",
       "      <td>22</td>\n",
       "      <td>45.0</td>\n",
       "      <td>152.0</td>\n",
       "      <td>9531</td>\n",
       "      <td>1</td>\n",
       "      <td>&lt; 1 Year</td>\n",
       "      <td>No</td>\n",
       "      <td>9531</td>\n",
       "      <td>1</td>\n",
       "      <td>25120.0</td>\n",
       "      <td>289</td>\n",
       "      <td>0</td>\n",
       "    </tr>\n",
       "    <tr>\n",
       "      <th>1</th>\n",
       "      <td>9548</td>\n",
       "      <td>Female</td>\n",
       "      <td>23</td>\n",
       "      <td>46.0</td>\n",
       "      <td>152.0</td>\n",
       "      <td>9548</td>\n",
       "      <td>1</td>\n",
       "      <td>&lt; 1 Year</td>\n",
       "      <td>Yes</td>\n",
       "      <td>9548</td>\n",
       "      <td>0</td>\n",
       "      <td>30899.0</td>\n",
       "      <td>28</td>\n",
       "      <td>0</td>\n",
       "    </tr>\n",
       "    <tr>\n",
       "      <th>2</th>\n",
       "      <td>9553</td>\n",
       "      <td>Male</td>\n",
       "      <td>44</td>\n",
       "      <td>9.0</td>\n",
       "      <td>124.0</td>\n",
       "      <td>9553</td>\n",
       "      <td>1</td>\n",
       "      <td>&gt; 2 Years</td>\n",
       "      <td>Yes</td>\n",
       "      <td>9553</td>\n",
       "      <td>0</td>\n",
       "      <td>34372.0</td>\n",
       "      <td>73</td>\n",
       "      <td>1</td>\n",
       "    </tr>\n",
       "    <tr>\n",
       "      <th>3</th>\n",
       "      <td>9554</td>\n",
       "      <td>Female</td>\n",
       "      <td>49</td>\n",
       "      <td>28.0</td>\n",
       "      <td>26.0</td>\n",
       "      <td>9554</td>\n",
       "      <td>1</td>\n",
       "      <td>1-2 Year</td>\n",
       "      <td>No</td>\n",
       "      <td>9554</td>\n",
       "      <td>1</td>\n",
       "      <td>27626.0</td>\n",
       "      <td>36</td>\n",
       "      <td>0</td>\n",
       "    </tr>\n",
       "    <tr>\n",
       "      <th>4</th>\n",
       "      <td>9567</td>\n",
       "      <td>Male</td>\n",
       "      <td>75</td>\n",
       "      <td>31.0</td>\n",
       "      <td>9.0</td>\n",
       "      <td>9567</td>\n",
       "      <td>1</td>\n",
       "      <td>1-2 Year</td>\n",
       "      <td>Yes</td>\n",
       "      <td>9567</td>\n",
       "      <td>1</td>\n",
       "      <td>2630.0</td>\n",
       "      <td>151</td>\n",
       "      <td>0</td>\n",
       "    </tr>\n",
       "  </tbody>\n",
       "</table>\n",
       "</div>"
      ],
      "text/plain": [
       "     id  gender  age  region_code  policy_sales_channel    id  \\\n",
       "0  9531    Male   22         45.0                 152.0  9531   \n",
       "1  9548  Female   23         46.0                 152.0  9548   \n",
       "2  9553    Male   44          9.0                 124.0  9553   \n",
       "3  9554  Female   49         28.0                  26.0  9554   \n",
       "4  9567    Male   75         31.0                   9.0  9567   \n",
       "\n",
       "   driving_license vehicle_age vehicle_damage    id  previously_insured  \\\n",
       "0                1    < 1 Year             No  9531                   1   \n",
       "1                1    < 1 Year            Yes  9548                   0   \n",
       "2                1   > 2 Years            Yes  9553                   0   \n",
       "3                1    1-2 Year             No  9554                   1   \n",
       "4                1    1-2 Year            Yes  9567                   1   \n",
       "\n",
       "   annual_premium  vintage  response  \n",
       "0         25120.0      289         0  \n",
       "1         30899.0       28         0  \n",
       "2         34372.0       73         1  \n",
       "3         27626.0       36         0  \n",
       "4          2630.0      151         0  "
      ]
     },
     "execution_count": 10,
     "metadata": {},
     "output_type": "execute_result"
    }
   ],
   "source": [
    "query_tables = \"\"\"\n",
    "    SELECT *\n",
    "    FROM pa004.users u LEFT JOIN pa004.vehicle v ON (u.id = v.id)\n",
    "                       LEFT JOIN pa004.insurance i ON (u.id = i.id)\n",
    "   LIMIT 10\n",
    "\"\"\"\n",
    "\n",
    "cursor.execute(query_tables)\n",
    "\n",
    "df_raw = pd.read_sql(query_tables, conn) # não precisa de cursor, faz a conexão direto\n",
    "# df_raw = df_raw.drop(df_raw.columns[[5,9]], axis=1)\n",
    "df_raw.head()"
   ]
  },
  {
   "cell_type": "code",
   "execution_count": 23,
   "id": "7ef628b5",
   "metadata": {
    "ExecuteTime": {
     "end_time": "2022-12-07T13:19:13.055033Z",
     "start_time": "2022-12-07T13:19:13.052339Z"
    }
   },
   "outputs": [],
   "source": [
    "df1 = df_raw.copy()"
   ]
  },
  {
   "cell_type": "code",
   "execution_count": 24,
   "id": "713aa87c",
   "metadata": {
    "ExecuteTime": {
     "end_time": "2022-12-07T13:19:13.997944Z",
     "start_time": "2022-12-07T13:19:13.984014Z"
    }
   },
   "outputs": [
    {
     "data": {
      "text/html": [
       "<div>\n",
       "<style scoped>\n",
       "    .dataframe tbody tr th:only-of-type {\n",
       "        vertical-align: middle;\n",
       "    }\n",
       "\n",
       "    .dataframe tbody tr th {\n",
       "        vertical-align: top;\n",
       "    }\n",
       "\n",
       "    .dataframe thead th {\n",
       "        text-align: right;\n",
       "    }\n",
       "</style>\n",
       "<table border=\"1\" class=\"dataframe\">\n",
       "  <thead>\n",
       "    <tr style=\"text-align: right;\">\n",
       "      <th></th>\n",
       "      <th>id</th>\n",
       "      <th>gender</th>\n",
       "      <th>age</th>\n",
       "      <th>region_code</th>\n",
       "      <th>policy_sales_channel</th>\n",
       "      <th>driving_license</th>\n",
       "      <th>vehicle_age</th>\n",
       "      <th>vehicle_damage</th>\n",
       "      <th>previously_insured</th>\n",
       "      <th>annual_premium</th>\n",
       "      <th>vintage</th>\n",
       "      <th>response</th>\n",
       "    </tr>\n",
       "  </thead>\n",
       "  <tbody>\n",
       "    <tr>\n",
       "      <th>0</th>\n",
       "      <td>9531</td>\n",
       "      <td>Male</td>\n",
       "      <td>22</td>\n",
       "      <td>45.0</td>\n",
       "      <td>152.0</td>\n",
       "      <td>1</td>\n",
       "      <td>&lt; 1 Year</td>\n",
       "      <td>No</td>\n",
       "      <td>1</td>\n",
       "      <td>25120.0</td>\n",
       "      <td>289</td>\n",
       "      <td>0</td>\n",
       "    </tr>\n",
       "    <tr>\n",
       "      <th>1</th>\n",
       "      <td>9548</td>\n",
       "      <td>Female</td>\n",
       "      <td>23</td>\n",
       "      <td>46.0</td>\n",
       "      <td>152.0</td>\n",
       "      <td>1</td>\n",
       "      <td>&lt; 1 Year</td>\n",
       "      <td>Yes</td>\n",
       "      <td>0</td>\n",
       "      <td>30899.0</td>\n",
       "      <td>28</td>\n",
       "      <td>0</td>\n",
       "    </tr>\n",
       "    <tr>\n",
       "      <th>2</th>\n",
       "      <td>9553</td>\n",
       "      <td>Male</td>\n",
       "      <td>44</td>\n",
       "      <td>9.0</td>\n",
       "      <td>124.0</td>\n",
       "      <td>1</td>\n",
       "      <td>&gt; 2 Years</td>\n",
       "      <td>Yes</td>\n",
       "      <td>0</td>\n",
       "      <td>34372.0</td>\n",
       "      <td>73</td>\n",
       "      <td>1</td>\n",
       "    </tr>\n",
       "    <tr>\n",
       "      <th>3</th>\n",
       "      <td>9554</td>\n",
       "      <td>Female</td>\n",
       "      <td>49</td>\n",
       "      <td>28.0</td>\n",
       "      <td>26.0</td>\n",
       "      <td>1</td>\n",
       "      <td>1-2 Year</td>\n",
       "      <td>No</td>\n",
       "      <td>1</td>\n",
       "      <td>27626.0</td>\n",
       "      <td>36</td>\n",
       "      <td>0</td>\n",
       "    </tr>\n",
       "    <tr>\n",
       "      <th>4</th>\n",
       "      <td>9567</td>\n",
       "      <td>Male</td>\n",
       "      <td>75</td>\n",
       "      <td>31.0</td>\n",
       "      <td>9.0</td>\n",
       "      <td>1</td>\n",
       "      <td>1-2 Year</td>\n",
       "      <td>Yes</td>\n",
       "      <td>1</td>\n",
       "      <td>2630.0</td>\n",
       "      <td>151</td>\n",
       "      <td>0</td>\n",
       "    </tr>\n",
       "  </tbody>\n",
       "</table>\n",
       "</div>"
      ],
      "text/plain": [
       "     id  gender  age  region_code  policy_sales_channel  driving_license  \\\n",
       "0  9531    Male   22         45.0                 152.0                1   \n",
       "1  9548  Female   23         46.0                 152.0                1   \n",
       "2  9553    Male   44          9.0                 124.0                1   \n",
       "3  9554  Female   49         28.0                  26.0                1   \n",
       "4  9567    Male   75         31.0                   9.0                1   \n",
       "\n",
       "  vehicle_age vehicle_damage  previously_insured  annual_premium  vintage  \\\n",
       "0    < 1 Year             No                   1         25120.0      289   \n",
       "1    < 1 Year            Yes                   0         30899.0       28   \n",
       "2   > 2 Years            Yes                   0         34372.0       73   \n",
       "3    1-2 Year             No                   1         27626.0       36   \n",
       "4    1-2 Year            Yes                   1          2630.0      151   \n",
       "\n",
       "   response  \n",
       "0         0  \n",
       "1         0  \n",
       "2         1  \n",
       "3         0  \n",
       "4         0  "
      ]
     },
     "execution_count": 24,
     "metadata": {},
     "output_type": "execute_result"
    }
   ],
   "source": [
    "df1 = df1.loc[:, ~df1.columns.duplicated()]\n",
    "df1.head()"
   ]
  },
  {
   "cell_type": "code",
   "execution_count": 22,
   "id": "bc4bc1c5",
   "metadata": {
    "ExecuteTime": {
     "end_time": "2022-12-07T13:17:49.530865Z",
     "start_time": "2022-12-07T13:17:49.514217Z"
    }
   },
   "outputs": [
    {
     "data": {
      "text/html": [
       "<div>\n",
       "<style scoped>\n",
       "    .dataframe tbody tr th:only-of-type {\n",
       "        vertical-align: middle;\n",
       "    }\n",
       "\n",
       "    .dataframe tbody tr th {\n",
       "        vertical-align: top;\n",
       "    }\n",
       "\n",
       "    .dataframe thead th {\n",
       "        text-align: right;\n",
       "    }\n",
       "</style>\n",
       "<table border=\"1\" class=\"dataframe\">\n",
       "  <thead>\n",
       "    <tr style=\"text-align: right;\">\n",
       "      <th></th>\n",
       "      <th>id</th>\n",
       "      <th>gender</th>\n",
       "      <th>age</th>\n",
       "      <th>region_code</th>\n",
       "      <th>policy_sales_channel</th>\n",
       "      <th>driving_license</th>\n",
       "      <th>vehicle_age</th>\n",
       "      <th>vehicle_damage</th>\n",
       "      <th>previously_insured</th>\n",
       "      <th>annual_premium</th>\n",
       "      <th>vintage</th>\n",
       "      <th>response</th>\n",
       "    </tr>\n",
       "  </thead>\n",
       "  <tbody>\n",
       "    <tr>\n",
       "      <th>0</th>\n",
       "      <td>9531</td>\n",
       "      <td>Male</td>\n",
       "      <td>22</td>\n",
       "      <td>45.0</td>\n",
       "      <td>152.0</td>\n",
       "      <td>1</td>\n",
       "      <td>&lt; 1 Year</td>\n",
       "      <td>No</td>\n",
       "      <td>1</td>\n",
       "      <td>25120.0</td>\n",
       "      <td>289</td>\n",
       "      <td>0</td>\n",
       "    </tr>\n",
       "    <tr>\n",
       "      <th>1</th>\n",
       "      <td>9548</td>\n",
       "      <td>Female</td>\n",
       "      <td>23</td>\n",
       "      <td>46.0</td>\n",
       "      <td>152.0</td>\n",
       "      <td>1</td>\n",
       "      <td>&lt; 1 Year</td>\n",
       "      <td>Yes</td>\n",
       "      <td>0</td>\n",
       "      <td>30899.0</td>\n",
       "      <td>28</td>\n",
       "      <td>0</td>\n",
       "    </tr>\n",
       "    <tr>\n",
       "      <th>2</th>\n",
       "      <td>9553</td>\n",
       "      <td>Male</td>\n",
       "      <td>44</td>\n",
       "      <td>9.0</td>\n",
       "      <td>124.0</td>\n",
       "      <td>1</td>\n",
       "      <td>&gt; 2 Years</td>\n",
       "      <td>Yes</td>\n",
       "      <td>0</td>\n",
       "      <td>34372.0</td>\n",
       "      <td>73</td>\n",
       "      <td>1</td>\n",
       "    </tr>\n",
       "    <tr>\n",
       "      <th>3</th>\n",
       "      <td>9554</td>\n",
       "      <td>Female</td>\n",
       "      <td>49</td>\n",
       "      <td>28.0</td>\n",
       "      <td>26.0</td>\n",
       "      <td>1</td>\n",
       "      <td>1-2 Year</td>\n",
       "      <td>No</td>\n",
       "      <td>1</td>\n",
       "      <td>27626.0</td>\n",
       "      <td>36</td>\n",
       "      <td>0</td>\n",
       "    </tr>\n",
       "    <tr>\n",
       "      <th>4</th>\n",
       "      <td>9567</td>\n",
       "      <td>Male</td>\n",
       "      <td>75</td>\n",
       "      <td>31.0</td>\n",
       "      <td>9.0</td>\n",
       "      <td>1</td>\n",
       "      <td>1-2 Year</td>\n",
       "      <td>Yes</td>\n",
       "      <td>1</td>\n",
       "      <td>2630.0</td>\n",
       "      <td>151</td>\n",
       "      <td>0</td>\n",
       "    </tr>\n",
       "  </tbody>\n",
       "</table>\n",
       "</div>"
      ],
      "text/plain": [
       "     id  gender age region_code policy_sales_channel driving_license  \\\n",
       "0  9531    Male  22        45.0                152.0               1   \n",
       "1  9548  Female  23        46.0                152.0               1   \n",
       "2  9553    Male  44         9.0                124.0               1   \n",
       "3  9554  Female  49        28.0                 26.0               1   \n",
       "4  9567    Male  75        31.0                  9.0               1   \n",
       "\n",
       "  vehicle_age vehicle_damage previously_insured annual_premium vintage  \\\n",
       "0    < 1 Year             No                  1        25120.0     289   \n",
       "1    < 1 Year            Yes                  0        30899.0      28   \n",
       "2   > 2 Years            Yes                  0        34372.0      73   \n",
       "3    1-2 Year             No                  1        27626.0      36   \n",
       "4    1-2 Year            Yes                  1         2630.0     151   \n",
       "\n",
       "  response  \n",
       "0        0  \n",
       "1        0  \n",
       "2        1  \n",
       "3        0  \n",
       "4        0  "
      ]
     },
     "execution_count": 22,
     "metadata": {},
     "output_type": "execute_result"
    }
   ],
   "source": [
    "df1 = df1.T.drop_duplicates().T # para excluir colunas duplicadas\n",
    "df1.head()"
   ]
  },
  {
   "cell_type": "markdown",
   "id": "2128750f",
   "metadata": {},
   "source": [
    "### SQL Alchemy"
   ]
  },
  {
   "cell_type": "code",
   "execution_count": null,
   "id": "b684d128",
   "metadata": {},
   "outputs": [],
   "source": []
  },
  {
   "cell_type": "code",
   "execution_count": null,
   "id": "bf35cb8d",
   "metadata": {},
   "outputs": [],
   "source": []
  }
 ],
 "metadata": {
  "kernelspec": {
   "display_name": "PA004",
   "language": "python",
   "name": "pa004"
  },
  "language_info": {
   "codemirror_mode": {
    "name": "ipython",
    "version": 3
   },
   "file_extension": ".py",
   "mimetype": "text/x-python",
   "name": "python",
   "nbconvert_exporter": "python",
   "pygments_lexer": "ipython3",
   "version": "3.10.0"
  }
 },
 "nbformat": 4,
 "nbformat_minor": 5
}
